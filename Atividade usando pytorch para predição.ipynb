{
 "cells": [
  {
   "cell_type": "code",
   "execution_count": 1,
   "id": "101a60d4-0c26-44b7-87b8-d060584dce38",
   "metadata": {},
   "outputs": [],
   "source": [
    "#  Importando as bibliotecas que serão utilizadas\n",
    "\n",
    "import numpy as np\n",
    "import pandas as pd\n",
    "import matplotlib.pyplot as plt\n",
    "\n",
    "\n",
    "from sklearn import preprocessing\n",
    "from sklearn.preprocessing import LabelEncoder\n",
    "from sklearn.metrics import accuracy_score\n",
    "\n",
    "\n",
    "import torch\n",
    "import torch.nn as nn\n",
    "from torch.utils.data import DataLoader\n",
    "from torch.utils.data import Dataset\n",
    "from torch.utils.data.dataset import random_split\n",
    "from torch.optim import SGD, Adam"
   ]
  },
  {
   "cell_type": "code",
   "execution_count": 2,
   "id": "6e8b4122-6ae1-4136-9797-ac05ec2f6945",
   "metadata": {},
   "outputs": [],
   "source": [
    "# Lendo o arquivo e ajustando as informações do dataset\n",
    "class CSVDataset(Dataset):\n",
    "    def __init__(self,path):\n",
    "        data = pd.read_csv('House_Rent_Dataset.csv', header =0, index_col=0)\n",
    "\n",
    "        # Categorizando os tamanhos do imóvel por faixa de tamanho\n",
    "\n",
    "        conditions = [\n",
    "            (data[\"Size\"] <= 600),\n",
    "            (data[\"Size\"] > 600) & (data[\"Size\"] <= 1500),\n",
    "            (data[\"Size\"] > 1500) & (data[\"Size\"] <= 3000),\n",
    "            (data[\"Size\"] > 3000)\n",
    "            ]\n",
    "\n",
    "        # Criando uma lista de valores para atribuir a cada \"categoria\" de tamanho\n",
    "        values = [\"pequeno\", \"médio\", \"grande\", \"super\"]\n",
    "\n",
    "\n",
    "        # criando uma nova coluna com os valores atribuídos\n",
    "        data[\"Tamanho\"] = np.select(conditions, values)\n",
    "\n",
    "        \n",
    "        # Categorizando os valores de aluguel por faixa de valor\n",
    "\n",
    "        conditions = [\n",
    "            (data[\"Rent\"] <= 2000),\n",
    "            (data[\"Rent\"] > 2000) & (data[\"Rent\"] <= 3000),\n",
    "            (data[\"Rent\"] > 3000) & (data[\"Rent\"] <= 4000),\n",
    "            (data[\"Rent\"] > 4000) & (data[\"Rent\"] <= 5000),\n",
    "            (data[\"Rent\"] > 5000) & (data[\"Rent\"] <= 6000),\n",
    "            (data[\"Rent\"] > 6000) & (data[\"Rent\"] <= 7000),\n",
    "            (data[\"Rent\"] > 7000) & (data[\"Rent\"] <= 8000),\n",
    "            (data[\"Rent\"] > 8000) & (data[\"Rent\"] <= 9000),\n",
    "            (data[\"Rent\"] > 9000) & (data[\"Rent\"] <= 10000),\n",
    "            (data[\"Rent\"] > 10000)\n",
    "            ]\n",
    "\n",
    "        # Criando uma lista de valores para atribuir a cada \"categoria\" de valor\n",
    "        values = [\"0-2000\", \"2001-3000\",\"3001-4000\",\"4001-5000\", \"5001-6000\", \"6001-7000\",\"7001-8000\",\"8001-9000\",\"9001-10000\", \"10000+\"]\n",
    "\n",
    "\n",
    "        # criando uma nova coluna com os valores atribuídos\n",
    "        data[\"Aluguel\"] = np.select(conditions, values)\n",
    "        \n",
    "        tipo_area = data[\"Area Type\"].values\n",
    "        labelencoder_tipo_area = LabelEncoder()\n",
    "        tipo_area = labelencoder_tipo_area.fit_transform(tipo_area)\n",
    "\n",
    "        data[\"Area Type\"] = tipo_area\n",
    "\n",
    "        #  Discretizando a cidade (City) - usando o Label Encoder.\n",
    "\n",
    "        cidade = data[\"City\"].values\n",
    "        labelencoder_cidade = LabelEncoder()\n",
    "        cidade = labelencoder_cidade.fit_transform(cidade)\n",
    "\n",
    "        data[\"City\"] = cidade\n",
    "\n",
    "        #  Discretizando o tamanho - usando o Label Encoder.\n",
    "\n",
    "        tamanho = data[\"Tamanho\"].values\n",
    "        labelencoder_tamanho = LabelEncoder()\n",
    "        tamanho = labelencoder_tamanho.fit_transform(tamanho)\n",
    "\n",
    "        data[\"Tamanho\"] = tamanho\n",
    "\n",
    "\n",
    "        #  Discretizando as categorias dos valores de aluguel - usando o Label Encoder.\n",
    "\n",
    "        aluguel = data[\"Aluguel\"].values\n",
    "        labelencoder_aluguel = LabelEncoder()\n",
    "        aluguel = labelencoder_aluguel.fit_transform(aluguel)\n",
    "\n",
    "        data[\"Aluguel\"] = aluguel\n",
    "        \n",
    "        \n",
    "#         Retirando as colunas que não serão utilizadas\n",
    "        data.drop([\"Tenant Preferred\", \"Point of Contact\", \"Furnishing Status\", \"Size\", \"Rent\", \"Area Locality\", \"Floor\"], axis=1, inplace=True)\n",
    "        \n",
    "\n",
    "        \n",
    "        self.X = data.values[:,:-1]\n",
    "        self.y = data.values[:, -1]\n",
    "\n",
    "        \n",
    "        self.X = self.X.astype('float32')\n",
    "        \n",
    "        self.y = LabelEncoder().fit_transform(self.y)\n",
    "        self.y = self.y.astype('float32')\n",
    "        self.y = self.y.reshape((len(self.y), 1))\n",
    "        \n",
    "    def __len__(self):\n",
    "        return len(self.X)\n",
    "    \n",
    "    def __getitem__(self,idx):\n",
    "        return [self.X[idx], self.y[idx]]\n",
    "\n",
    "dataset = CSVDataset(pd.read_csv('House_Rent_Dataset.csv', header =0, index_col=0))\n",
    "        "
   ]
  },
  {
   "cell_type": "code",
   "execution_count": 3,
   "id": "dfa1d55b-ebfa-4b1c-83af-e989eb5bd9a6",
   "metadata": {},
   "outputs": [
    {
     "name": "stdout",
     "output_type": "stream",
     "text": [
      "Número de tuplas: 4746\n",
      "[array([2., 2., 4., 2., 1.], dtype=float32), array([9.], dtype=float32)]\n"
     ]
    }
   ],
   "source": [
    "# Verificando o número de tuplas(features e classes) e visualizando o index 0\n",
    "# do dataset\n",
    "\n",
    "print('Número de tuplas:' , dataset.__len__())\n",
    "\n",
    "print(dataset[0])\n"
   ]
  },
  {
   "cell_type": "code",
   "execution_count": 4,
   "id": "7ceb478f-4023-446d-ac1b-ff895a8a20a0",
   "metadata": {},
   "outputs": [
    {
     "name": "stdout",
     "output_type": "stream",
     "text": [
      "[2. 2. 4. 2. 1.] [9.]\n",
      "[2. 2. 4. 1. 1.] [1.]\n"
     ]
    }
   ],
   "source": [
    "# Verificando os valores de X(features) e y(classes) do dataset\n",
    "\n",
    "for i in range(2):\n",
    "    print(dataset.X[i], dataset.y[i])"
   ]
  },
  {
   "cell_type": "code",
   "execution_count": 5,
   "id": "22672069-3c28-4ff9-aaf7-d3080fe14fef",
   "metadata": {},
   "outputs": [],
   "source": [
    "# Definindo a porcentagem do dataset que será utilizada para teste e treino\n",
    "# Usando o módulo random_split do Pytorch\n",
    "\n",
    "train_len = int(0.7*len(dataset))\n",
    "test_len = len(dataset) - train_len\n",
    "\n",
    "train_dataset, test_dataset = random_split(dataset,[train_len,test_len], generator=torch.Generator().manual_seed(123),)"
   ]
  },
  {
   "cell_type": "code",
   "execution_count": 6,
   "id": "b99fc79a-5c05-42c4-b3dd-dd5246845787",
   "metadata": {},
   "outputs": [],
   "source": [
    "# Utilizando o DataLoader\n",
    "\n",
    "train = DataLoader(train_dataset, batch_size=32, shuffle=True)"
   ]
  },
  {
   "cell_type": "code",
   "execution_count": 7,
   "id": "b997a996-3faa-4469-8920-c337a7e6e56c",
   "metadata": {},
   "outputs": [
    {
     "name": "stdout",
     "output_type": "stream",
     "text": [
      "tensor([[2., 1., 1., 2., 1.],\n",
      "        [2., 1., 3., 2., 2.],\n",
      "        [2., 1., 5., 2., 2.],\n",
      "        [3., 2., 3., 3., 0.],\n",
      "        [3., 2., 4., 3., 1.],\n",
      "        [2., 2., 3., 3., 1.],\n",
      "        [1., 2., 3., 1., 2.],\n",
      "        [3., 1., 3., 3., 1.],\n",
      "        [3., 2., 2., 4., 3.],\n",
      "        [3., 1., 4., 2., 1.],\n",
      "        [1., 2., 2., 1., 2.],\n",
      "        [2., 2., 4., 1., 1.],\n",
      "        [2., 2., 1., 2., 1.],\n",
      "        [3., 1., 5., 4., 1.],\n",
      "        [1., 2., 5., 1., 2.],\n",
      "        [2., 2., 3., 2., 1.],\n",
      "        [1., 1., 2., 1., 2.],\n",
      "        [2., 2., 4., 2., 1.],\n",
      "        [3., 1., 5., 3., 1.],\n",
      "        [2., 2., 3., 2., 1.],\n",
      "        [3., 1., 2., 3., 0.],\n",
      "        [1., 2., 5., 1., 2.],\n",
      "        [1., 2., 1., 2., 1.],\n",
      "        [1., 1., 5., 1., 2.],\n",
      "        [3., 1., 0., 3., 0.],\n",
      "        [2., 2., 1., 2., 0.],\n",
      "        [1., 2., 0., 1., 2.],\n",
      "        [2., 1., 4., 1., 1.],\n",
      "        [1., 2., 0., 1., 2.],\n",
      "        [1., 2., 5., 1., 2.],\n",
      "        [1., 1., 4., 1., 2.],\n",
      "        [1., 2., 0., 1., 2.]])\n",
      "tensor([[1.],\n",
      "        [1.],\n",
      "        [1.],\n",
      "        [1.],\n",
      "        [6.],\n",
      "        [6.],\n",
      "        [8.],\n",
      "        [1.],\n",
      "        [1.],\n",
      "        [7.],\n",
      "        [1.],\n",
      "        [6.],\n",
      "        [1.],\n",
      "        [1.],\n",
      "        [1.],\n",
      "        [9.],\n",
      "        [1.],\n",
      "        [7.],\n",
      "        [1.],\n",
      "        [9.],\n",
      "        [1.],\n",
      "        [1.],\n",
      "        [1.],\n",
      "        [1.],\n",
      "        [1.],\n",
      "        [1.],\n",
      "        [8.],\n",
      "        [1.],\n",
      "        [1.],\n",
      "        [1.],\n",
      "        [7.],\n",
      "        [5.]])\n"
     ]
    }
   ],
   "source": [
    "X_train, y_train = next(iter(train))\n",
    "\n",
    "print(X_train)\n",
    "print(y_train)"
   ]
  },
  {
   "cell_type": "code",
   "execution_count": 8,
   "id": "cd115d4b-0fac-4e35-896b-5faef946c802",
   "metadata": {},
   "outputs": [],
   "source": [
    "class MLP(nn.Module):\n",
    "# definindo elementos do modelo\n",
    "    def __init__(self, n_inputs):\n",
    "        super(MLP, self).__init__()\n",
    "        \n",
    "        self.hidden1=nn.Linear(n_inputs,10)\n",
    "        self.act1 = nn.ReLU()\n",
    "        \n",
    "        self.hidden2=nn.Linear(10,8)\n",
    "        self.act2 = nn.ReLU()\n",
    "        \n",
    "        self.hidden3=nn.Linear(8,1)\n",
    "        self.act3 = nn.Sigmoid()\n",
    "        \n",
    "# Forward\n",
    "\n",
    "    def forward(self, X):\n",
    "        X = self.hidden1(X)\n",
    "        X = self.act1(X)\n",
    "        X = self.hidden2(X)\n",
    "        X = self.act2(X)\n",
    "        X = self.hidden3(X)\n",
    "        X = self.act3(X)\n",
    "        return X"
   ]
  },
  {
   "cell_type": "code",
   "execution_count": 9,
   "id": "958ff654-7720-4125-842a-4ae8f2926a0e",
   "metadata": {},
   "outputs": [
    {
     "name": "stdout",
     "output_type": "stream",
     "text": [
      "MLP(\n",
      "  (hidden1): Linear(in_features=5, out_features=10, bias=True)\n",
      "  (act1): ReLU()\n",
      "  (hidden2): Linear(in_features=10, out_features=8, bias=True)\n",
      "  (act2): ReLU()\n",
      "  (hidden3): Linear(in_features=8, out_features=1, bias=True)\n",
      "  (act3): Sigmoid()\n",
      ")\n",
      "MLP(\n",
      "  (hidden1): Linear(in_features=5, out_features=10, bias=True)\n",
      "  (act1): ReLU()\n",
      "  (hidden2): Linear(in_features=10, out_features=8, bias=True)\n",
      "  (act2): ReLU()\n",
      "  (hidden3): Linear(in_features=8, out_features=1, bias=True)\n",
      "  (act3): Sigmoid()\n",
      ")\n"
     ]
    }
   ],
   "source": [
    "# Iniciando o modelo\n",
    "\n",
    "model = MLP(5)\n",
    "loss_fn = nn.BCELoss()\n",
    "optimizer = Adam(model.parameters(), lr=0.001)\n",
    "\n",
    "print(model)\n",
    "\n",
    "print(model)"
   ]
  },
  {
   "cell_type": "code",
   "execution_count": 10,
   "id": "e11a7015-211c-456b-9d99-b06f0b3d0ffa",
   "metadata": {},
   "outputs": [
    {
     "name": "stdout",
     "output_type": "stream",
     "text": [
      "torch.Size([32, 5])\n",
      "torch.Size([32, 1])\n"
     ]
    }
   ],
   "source": [
    "# Definindo o conjunto de treino e verificando a forma dele.\n",
    "\n",
    "X_train, y_train = next(iter(train))\n",
    "\n",
    "print(X_train.shape)\n",
    "print(y_train.shape)"
   ]
  },
  {
   "cell_type": "code",
   "execution_count": 11,
   "id": "f534651d-16ae-4608-8104-12f09fbfb9ea",
   "metadata": {},
   "outputs": [
    {
     "name": "stderr",
     "output_type": "stream",
     "text": [
      "100%|██████████| 100/100 [00:20<00:00,  4.90it/s]\n"
     ]
    }
   ],
   "source": [
    "# importando a barra de progresso para acompanhar o andamento\n",
    "import tqdm\n",
    "\n",
    "# Treinando o modelo\n",
    "\n",
    "EPOCHS = 100\n",
    "loss_list = np.zeros((EPOCHS,))\n",
    "\n",
    "for epoch in tqdm.trange(EPOCHS):\n",
    "    loss_batch = 0\n",
    "    \n",
    "    for x_batch, y_batch in train:\n",
    "        y_pred = model(x_batch)\n",
    "        loss= loss_fn(y_pred, y_batch)\n",
    "        \n",
    "# Zero gradientes\n",
    "\n",
    "        optimizer.zero_grad()\n",
    "        loss.backward()\n",
    "        optimizer.step()\n",
    "        loss_batch = loss_batch + loss.item()\n",
    "        \n",
    "    loss_list[epoch] = loss_batch / len(x_batch)"
   ]
  },
  {
   "cell_type": "code",
   "execution_count": 12,
   "id": "ce300cab-02dc-4d42-ac55-3cf3ecdf5840",
   "metadata": {},
   "outputs": [
    {
     "data": {
      "image/png": "[encoded data removed]",
      "text/plain": [
       "<Figure size 432x288 with 1 Axes>"
      ]
     },
     "metadata": {
      "needs_background": "light"
     },
     "output_type": "display_data"
    }
   ],
   "source": [
    "# Verificando e plotando o \"loss\" em gráfico\n",
    "\n",
    "def plot_history(loss_list):\n",
    "    \n",
    "    plt.plot(loss_list)\n",
    "    plt.xlabel('Epoch')\n",
    "    plt.ylabel('Train Loss')\n",
    "    plt.show()\n",
    "    \n",
    "plot_history(loss_list)"
   ]
  },
  {
   "cell_type": "code",
   "execution_count": 13,
   "id": "480608c3-5ef0-4f0c-a6fc-d3bb4f9ded93",
   "metadata": {},
   "outputs": [],
   "source": [
    "# Predição\n",
    "\n",
    "test = DataLoader(test_dataset, batch_size=len(test_dataset))\n",
    "xx_test, yy_test = next(iter(test))\n",
    "yy_pred = model(xx_test).round()"
   ]
  },
  {
   "cell_type": "code",
   "execution_count": 14,
   "id": "c7e110dd-9aa7-4a02-84b6-fbfe303cc080",
   "metadata": {},
   "outputs": [
    {
     "name": "stdout",
     "output_type": "stream",
     "text": [
      "0.7155898876404494\n"
     ]
    }
   ],
   "source": [
    "# Verificando a acuracidade do modelo.\n",
    "\n",
    "print(accuracy_score(yy_test.detach().numpy(), yy_pred.detach().numpy()))"
   ]
  },
  {
   "cell_type": "code",
   "execution_count": 16,
   "id": "7a3fcb3a-9fa1-4bde-8647-4088b7e38664",
   "metadata": {},
   "outputs": [
    {
     "name": "stdout",
     "output_type": "stream",
     "text": [
      "Usando cpu\n"
     ]
    }
   ],
   "source": [
    "# Configurando para utilizar a GPU para processar os tensores e o modelo\n",
    "\n",
    "device = \"cuda\" if torch.cuda.is_available() else \"cpu\"\n",
    "print(\"Usando {}\".format(device))"
   ]
  },
  {
   "cell_type": "code",
   "execution_count": 17,
   "id": "76c4cb4d-8b4d-42b1-a3f7-7298dbbc8d9e",
   "metadata": {},
   "outputs": [
    {
     "name": "stdout",
     "output_type": "stream",
     "text": [
      "MLP(\n",
      "  (hidden1): Linear(in_features=5, out_features=10, bias=True)\n",
      "  (act1): ReLU()\n",
      "  (hidden2): Linear(in_features=10, out_features=8, bias=True)\n",
      "  (act2): ReLU()\n",
      "  (hidden3): Linear(in_features=8, out_features=1, bias=True)\n",
      "  (act3): Sigmoid()\n",
      ")\n"
     ]
    }
   ],
   "source": [
    "# Fazendo os tensores passarem a ser excutados no dispositivo indicado\n",
    "\n",
    "model = MLP(5).to(device)\n",
    "optimizer = Adam(model.parameters(), lr=0.001)\n",
    "\n",
    "print(model)"
   ]
  },
  {
   "cell_type": "code",
   "execution_count": 18,
   "id": "1c19f8aa-a21c-4fe8-8bc4-9467ad06579e",
   "metadata": {},
   "outputs": [
    {
     "name": "stderr",
     "output_type": "stream",
     "text": [
      "100%|██████████| 100/100 [00:19<00:00,  5.14it/s]\n"
     ]
    },
    {
     "data": {
      "image/png": "[encoded data removed]",
      "text/plain": [
       "<Figure size 432x288 with 1 Axes>"
      ]
     },
     "metadata": {
      "needs_background": "light"
     },
     "output_type": "display_data"
    }
   ],
   "source": [
    "# Movendo os dados de x_batch e y_batch para o mesmo dispositivo do modelo\n",
    "\n",
    "# Treinando o modelo\n",
    "\n",
    "EPOCHS = 100\n",
    "loss_list = np.zeros((EPOCHS,))\n",
    "\n",
    "for epoch in tqdm.trange(EPOCHS):\n",
    "    loss_batch = 0\n",
    "    \n",
    "    for x_batch, y_batch in train:\n",
    "\n",
    "        x_batch = x_batch.to(device)\n",
    "        y_batch = y_batch.to(device)\n",
    "        \n",
    "# Computando a saída do modelo\n",
    "        \n",
    "        y_pred = model(x_batch)\n",
    "        loss= loss_fn(y_pred, y_batch)\n",
    "\n",
    "# Zero gradientes\n",
    "        optimizer.zero_grad()\n",
    "        loss.backward()\n",
    "        optimizer.step()\n",
    "        loss_batch = loss_batch + loss.item()\n",
    "        \n",
    "    loss_list[epoch] = loss_batch / len(x_batch)\n",
    "    \n",
    "# Plotando os resultados\n",
    "plot_history(loss_list)"
   ]
  },
  {
   "cell_type": "code",
   "execution_count": 19,
   "id": "046250b9-229f-4f70-990a-5d8fec2034ec",
   "metadata": {},
   "outputs": [
    {
     "name": "stdout",
     "output_type": "stream",
     "text": [
      "0.7155898876404494\n"
     ]
    }
   ],
   "source": [
    "# Predição\n",
    "\n",
    "test = DataLoader(test_dataset, batch_size=len(test_dataset))\n",
    "xx_test, yy_test = next(iter(test))\n",
    "yy_pred = model(xx_test).round()\n",
    "\n",
    "# Verificando a acuracidade do modelo.\n",
    "\n",
    "print(accuracy_score(yy_test.detach().numpy(), yy_pred.detach().numpy()))"
   ]
  },
  {
   "cell_type": "code",
   "execution_count": 20,
   "id": "c2dfa3ed-567d-4a53-8542-3258c424d962",
   "metadata": {},
   "outputs": [],
   "source": [
    "# Conclusão:\n",
    "\n",
    "# Mesmo que tenha ficado pouca coisa maior a acuracidade, em comparação\n",
    "# com a ánalise utilizando o tensorflow na trilha 4, novamente não consegui \n",
    "# chegar a 80%(0.8) de acuracidade :(\n",
    "\n",
    "# Primeiramente tentei utilizar o modelo de Regressão e o modelo de \n",
    "# Classificação para realizar a atividade porém na hora de realizar \n",
    "# o treinamento do modelo dava erro, tentei de varias formas consertar\n",
    "# e não consegui, optei então por seguir com alguma das demais\n",
    "# técnicas apresentadas no Ebook e na aula, e me deparei com o DataLoader.\n",
    "\n",
    "# Pode ser impressão minha, porque fiquei bastante tempo presa no modelo de Regressão e \n",
    "# não deu certo, mas com o DataLoader senti uma maior facilidade para concluir a tarefa.\n",
    "\n",
    "# É possível que os modelos anteriores que tentei não sejam adequados para o tipo de \n",
    "# dados que estou utilizando para a tarefa (que como descrito, estava sendo solicitado\n",
    "# que fosse o mesmo dataset utilizado na tarefa anterior), mas também é possível que eu\n",
    "# tenha travado em algum ponto em que eu ainda não tenha habilidade para resolver.\n",
    "\n",
    "# Apesar da acuracidade do modelo utilizando Pytorch ter ficado pouquissima coisa maior\n",
    "# que utilizando o TensorFlow, achei os passos mais simples usando o modelo DataLoader,\n",
    "# mesmo que eu não tenha ficado completamente satisfeita com o resultado...\n",
    "\n",
    "# Acuracidade TensorFlow =  0.711376404494382\n",
    "# Acuracidade DataLoader/Pytorch = 0.7155898876404494"
   ]
  },
  {
   "cell_type": "code",
   "execution_count": null,
   "id": "6308328b-8549-4134-8769-cb20c72f7d44",
   "metadata": {},
   "outputs": [],
   "source": []
  }
 ],
 "metadata": {
  "kernelspec": {
   "display_name": "Python 3 (ipykernel)",
   "language": "python",
   "name": "python3"
  },
  "language_info": {
   "codemirror_mode": {
    "name": "ipython",
    "version": 3
   },
   "file_extension": ".py",
   "mimetype": "text/x-python",
   "name": "python",
   "nbconvert_exporter": "python",
   "pygments_lexer": "ipython3",
   "version": "3.9.7"
  }
 },
 "nbformat": 4,
 "nbformat_minor": 5
}
