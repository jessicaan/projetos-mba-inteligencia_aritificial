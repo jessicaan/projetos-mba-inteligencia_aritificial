{
 "cells": [
  {
   "cell_type": "code",
   "execution_count": 1,
   "id": "fe36ab47-8168-4bd9-a63f-14d642bb4682",
   "metadata": {},
   "outputs": [],
   "source": [
    "# Importando as bibliotecas necessárias\n",
    "import pandas as pd\n",
    "import numpy as np\n",
    "import matplotlib.pyplot as plt\n",
    "from sklearn.preprocessing import LabelEncoder\n",
    "from sklearn.decomposition import PCA, KernelPCA\n",
    "from sklearn.datasets import make_circles\n",
    "from sklearn import decomposition\n",
    "from sklearn.model_selection import train_test_split\n",
    "from sklearn.preprocessing import StandardScaler\n",
    "import matplotlib.pyplot as plt\n",
    "from sklearn.metrics import ConfusionMatrixDisplay\n",
    "\n",
    "from sklearn.linear_model import LogisticRegression\n",
    "import time\n"
   ]
  },
  {
   "cell_type": "code",
   "execution_count": 2,
   "id": "25e39c95-3772-4ed9-b387-cea1d8966562",
   "metadata": {},
   "outputs": [
    {
     "name": "stdout",
     "output_type": "stream",
     "text": [
      "(1420, 12)\n"
     ]
    },
    {
     "data": {
      "text/html": [
       "<div>\n",
       "<style scoped>\n",
       "    .dataframe tbody tr th:only-of-type {\n",
       "        vertical-align: middle;\n",
       "    }\n",
       "\n",
       "    .dataframe tbody tr th {\n",
       "        vertical-align: top;\n",
       "    }\n",
       "\n",
       "    .dataframe thead th {\n",
       "        text-align: right;\n",
       "    }\n",
       "</style>\n",
       "<table border=\"1\" class=\"dataframe\">\n",
       "  <thead>\n",
       "    <tr style=\"text-align: right;\">\n",
       "      <th></th>\n",
       "      <th>GRANDE_REG</th>\n",
       "      <th>COD_UF</th>\n",
       "      <th>SIGLA_UF</th>\n",
       "      <th>COD</th>\n",
       "      <th>NOME</th>\n",
       "      <th>TIPO</th>\n",
       "      <th>COD_CAT_ASSOC</th>\n",
       "      <th>CAT_ASSOC</th>\n",
       "      <th>COD_MUN</th>\n",
       "      <th>NOME_MUN</th>\n",
       "      <th>LEG</th>\n",
       "      <th>DATA</th>\n",
       "    </tr>\n",
       "  </thead>\n",
       "  <tbody>\n",
       "    <tr>\n",
       "      <th>0</th>\n",
       "      <td>Centro-Oeste</td>\n",
       "      <td>53</td>\n",
       "      <td>DF</td>\n",
       "      <td>5301</td>\n",
       "      <td>Região Integrada de Desenvolvimento do Distrit...</td>\n",
       "      <td>RIDE</td>\n",
       "      <td>530101</td>\n",
       "      <td>NÃO TEM</td>\n",
       "      <td>5300108</td>\n",
       "      <td>BRASÍLIA</td>\n",
       "      <td>DECRETO Nº 7469 - 04.05.2011 Regulamenta a Lei...</td>\n",
       "      <td>19/02/1998</td>\n",
       "    </tr>\n",
       "    <tr>\n",
       "      <th>1</th>\n",
       "      <td>Centro-Oeste</td>\n",
       "      <td>52</td>\n",
       "      <td>GO</td>\n",
       "      <td>5202</td>\n",
       "      <td>Região Integrada de Desenvolvimento do Distrit...</td>\n",
       "      <td>RIDE</td>\n",
       "      <td>520201</td>\n",
       "      <td>NÃO TEM</td>\n",
       "      <td>5200100</td>\n",
       "      <td>ABADIÂNIA</td>\n",
       "      <td>DECRETO Nº 7469 - 04.05.2011 Regulamenta a Lei...</td>\n",
       "      <td>19/02/1998</td>\n",
       "    </tr>\n",
       "    <tr>\n",
       "      <th>2</th>\n",
       "      <td>Centro-Oeste</td>\n",
       "      <td>52</td>\n",
       "      <td>GO</td>\n",
       "      <td>5202</td>\n",
       "      <td>Região Integrada de Desenvolvimento do Distrit...</td>\n",
       "      <td>RIDE</td>\n",
       "      <td>520201</td>\n",
       "      <td>NÃO TEM</td>\n",
       "      <td>5200175</td>\n",
       "      <td>ÁGUA FRIA DE GOIÁS</td>\n",
       "      <td>DECRETO Nº 7469 - 04.05.2011 Regulamenta a Lei...</td>\n",
       "      <td>19/02/1998</td>\n",
       "    </tr>\n",
       "    <tr>\n",
       "      <th>3</th>\n",
       "      <td>Centro-Oeste</td>\n",
       "      <td>52</td>\n",
       "      <td>GO</td>\n",
       "      <td>5202</td>\n",
       "      <td>Região Integrada de Desenvolvimento do Distrit...</td>\n",
       "      <td>RIDE</td>\n",
       "      <td>520201</td>\n",
       "      <td>NÃO TEM</td>\n",
       "      <td>5200258</td>\n",
       "      <td>ÁGUAS LINDAS DE GOIÁS</td>\n",
       "      <td>DECRETO Nº 7469 - 04.05.2011 Regulamenta a Lei...</td>\n",
       "      <td>19/02/1998</td>\n",
       "    </tr>\n",
       "    <tr>\n",
       "      <th>4</th>\n",
       "      <td>Centro-Oeste</td>\n",
       "      <td>52</td>\n",
       "      <td>GO</td>\n",
       "      <td>5202</td>\n",
       "      <td>Região Integrada de Desenvolvimento do Distrit...</td>\n",
       "      <td>RIDE</td>\n",
       "      <td>520201</td>\n",
       "      <td>NÃO TEM</td>\n",
       "      <td>5200308</td>\n",
       "      <td>ALEXÂNIA</td>\n",
       "      <td>DECRETO Nº 7469 - 04.05.2011 Regulamenta a Lei...</td>\n",
       "      <td>19/02/1998</td>\n",
       "    </tr>\n",
       "  </tbody>\n",
       "</table>\n",
       "</div>"
      ],
      "text/plain": [
       "     GRANDE_REG  COD_UF SIGLA_UF   COD  \\\n",
       "0  Centro-Oeste      53       DF  5301   \n",
       "1  Centro-Oeste      52       GO  5202   \n",
       "2  Centro-Oeste      52       GO  5202   \n",
       "3  Centro-Oeste      52       GO  5202   \n",
       "4  Centro-Oeste      52       GO  5202   \n",
       "\n",
       "                                                NOME  TIPO COD_CAT_ASSOC  \\\n",
       "0  Região Integrada de Desenvolvimento do Distrit...  RIDE        530101   \n",
       "1  Região Integrada de Desenvolvimento do Distrit...  RIDE        520201   \n",
       "2  Região Integrada de Desenvolvimento do Distrit...  RIDE        520201   \n",
       "3  Região Integrada de Desenvolvimento do Distrit...  RIDE        520201   \n",
       "4  Região Integrada de Desenvolvimento do Distrit...  RIDE        520201   \n",
       "\n",
       "  CAT_ASSOC  COD_MUN               NOME_MUN  \\\n",
       "0   NÃO TEM  5300108               BRASÍLIA   \n",
       "1   NÃO TEM  5200100              ABADIÂNIA   \n",
       "2   NÃO TEM  5200175     ÁGUA FRIA DE GOIÁS   \n",
       "3   NÃO TEM  5200258  ÁGUAS LINDAS DE GOIÁS   \n",
       "4   NÃO TEM  5200308               ALEXÂNIA   \n",
       "\n",
       "                                                 LEG        DATA  \n",
       "0  DECRETO Nº 7469 - 04.05.2011 Regulamenta a Lei...  19/02/1998  \n",
       "1  DECRETO Nº 7469 - 04.05.2011 Regulamenta a Lei...  19/02/1998  \n",
       "2  DECRETO Nº 7469 - 04.05.2011 Regulamenta a Lei...  19/02/1998  \n",
       "3  DECRETO Nº 7469 - 04.05.2011 Regulamenta a Lei...  19/02/1998  \n",
       "4  DECRETO Nº 7469 - 04.05.2011 Regulamenta a Lei...  19/02/1998  "
      ]
     },
     "execution_count": 2,
     "metadata": {},
     "output_type": "execute_result"
    }
   ],
   "source": [
    "# Lendo o arquivo base e criando o dataframe\n",
    "df = pd.read_csv ('APNS_6.csv', delimiter=\";\")\n",
    "\n",
    "# Visualizando as informações do dataframe\n",
    "print (df.shape)\n",
    "df.head()"
   ]
  },
  {
   "cell_type": "code",
   "execution_count": 3,
   "id": "9e9ae1f2-0f72-4d57-b85d-b0b23013e20e",
   "metadata": {},
   "outputs": [
    {
     "name": "stdout",
     "output_type": "stream",
     "text": [
      "Index(['GRANDE_REG', 'COD_UF', 'SIGLA_UF', 'COD', 'NOME', 'TIPO',\n",
      "       'COD_CAT_ASSOC', 'CAT_ASSOC', 'COD_MUN', 'NOME_MUN', 'LEG', 'DATA'],\n",
      "      dtype='object')\n",
      "<class 'pandas.core.frame.DataFrame'>\n",
      "RangeIndex: 1420 entries, 0 to 1419\n",
      "Data columns (total 12 columns):\n",
      " #   Column         Non-Null Count  Dtype \n",
      "---  ------         --------------  ----- \n",
      " 0   GRANDE_REG     1420 non-null   object\n",
      " 1   COD_UF         1420 non-null   int64 \n",
      " 2   SIGLA_UF       1420 non-null   object\n",
      " 3   COD            1420 non-null   int64 \n",
      " 4   NOME           1420 non-null   object\n",
      " 5   TIPO           1420 non-null   object\n",
      " 6   COD_CAT_ASSOC  1420 non-null   object\n",
      " 7   CAT_ASSOC      1420 non-null   object\n",
      " 8   COD_MUN        1420 non-null   int64 \n",
      " 9   NOME_MUN       1420 non-null   object\n",
      " 10  LEG            1420 non-null   object\n",
      " 11  DATA           1420 non-null   object\n",
      "dtypes: int64(3), object(9)\n",
      "memory usage: 133.2+ KB\n"
     ]
    }
   ],
   "source": [
    "#  Verificando as colunas para realizar a limpeza \n",
    "# dos dados que não seriam utilizados\n",
    "\n",
    "print(df.columns)\n",
    "df.info()"
   ]
  },
  {
   "cell_type": "code",
   "execution_count": 4,
   "id": "d2e751c2-bdc7-45ec-a3d6-c73c048a180b",
   "metadata": {},
   "outputs": [
    {
     "name": "stdout",
     "output_type": "stream",
     "text": [
      "Index(['COD_UF', 'COD', 'TIPO', 'COD_MUN'], dtype='object')\n",
      "quantidade de colunas: 4\n"
     ]
    }
   ],
   "source": [
    "#  Removendo colunas não desejadas para a ánalise do arquivo.\n",
    "data = df.drop(['SIGLA_UF','NOME','LEG','COD_CAT_ASSOC','CAT_ASSOC','NOME_MUN','DATA', 'GRANDE_REG'], axis=1)\n",
    "print(data.columns)\n",
    "print(\"quantidade de colunas:\", len(data.columns))"
   ]
  },
  {
   "cell_type": "code",
   "execution_count": 5,
   "id": "b0965355-ebac-461c-b57f-2a7f17e480a1",
   "metadata": {},
   "outputs": [
    {
     "name": "stdout",
     "output_type": "stream",
     "text": [
      "['RIDE' 'RM' 'AGLO']\n",
      "----------------------------------------\n",
      "RM      1290\n",
      "AGLO      74\n",
      "RIDE      56\n",
      "Name: TIPO, dtype: int64\n"
     ]
    }
   ],
   "source": [
    "# Verificando os dados únicos da coluna TIPO\n",
    "print(data['TIPO'].unique())\n",
    "print(10*\"----\")\n",
    "print(data['TIPO'].value_counts())\n"
   ]
  },
  {
   "cell_type": "code",
   "execution_count": 6,
   "id": "57c5d54f-2c0b-452d-b583-d097dfd60066",
   "metadata": {},
   "outputs": [
    {
     "data": {
      "text/plain": [
       "4"
      ]
     },
     "execution_count": 6,
     "metadata": {},
     "output_type": "execute_result"
    }
   ],
   "source": [
    "# Definindo valores de X e y\n",
    "X = data.loc[: , data.columns != 'TIPO'].values\n",
    "y = data['TIPO'].values\n",
    "\n",
    "len(data.columns)"
   ]
  },
  {
   "cell_type": "code",
   "execution_count": 7,
   "id": "dfb51244-56c2-4d46-9c63-0d3e915def7e",
   "metadata": {},
   "outputs": [],
   "source": [
    "#  Usando label encoder para discretizar os dados de y\n",
    "\n",
    "labelencoder_y = LabelEncoder()\n",
    "y = labelencoder_y.fit_transform(y)\n",
    "\n",
    "scale_obj = StandardScaler()\n",
    "X = scale_obj.fit_transform(X.astype(float))\n",
    "\n",
    "\n",
    "XTrain, XTest, yTrain, yTest = train_test_split(X, y, test_size = 0.15)"
   ]
  },
  {
   "cell_type": "code",
   "execution_count": 8,
   "id": "ea9884cf-7a3d-41e7-8140-32991f8568df",
   "metadata": {},
   "outputs": [
    {
     "name": "stdout",
     "output_type": "stream",
     "text": [
      "[[2.08212519 2.07681368 2.06400012]\n",
      " [1.96985141 1.96575151 1.95185561]\n",
      " [1.96985141 1.96575151 1.95193972]\n",
      " ...\n",
      " [0.84711359 0.84391136 0.83880051]\n",
      " [0.84711359 0.84391136 0.84519336]\n",
      " [0.84711359 0.84391136 0.85079901]]\n"
     ]
    }
   ],
   "source": [
    "\n",
    "print(X)\n"
   ]
  },
  {
   "cell_type": "code",
   "execution_count": 9,
   "id": "eaa460af-b4e6-4aad-a511-a679825601ed",
   "metadata": {},
   "outputs": [
    {
     "name": "stdout",
     "output_type": "stream",
     "text": [
      "Tempo de treino: 0.030810719999999847\n"
     ]
    }
   ],
   "source": [
    "#  Usando regressão logistica para treinar o modelo\n",
    "model = LogisticRegression(solver='lbfgs', max_iter=400)\n",
    "start_time = time.perf_counter()\n",
    "model.fit(XTrain, yTrain)\n",
    "end_time = time.perf_counter()\n",
    "\n",
    "print(\"Tempo de treino:\", end_time - start_time)\n"
   ]
  },
  {
   "cell_type": "code",
   "execution_count": 10,
   "id": "01fbf859-9fe5-4916-aa32-31b26a79de00",
   "metadata": {},
   "outputs": [
    {
     "data": {
      "text/plain": [
       "0.9107981220657277"
      ]
     },
     "execution_count": 10,
     "metadata": {},
     "output_type": "execute_result"
    }
   ],
   "source": [
    "model.score(XTest, yTest)"
   ]
  },
  {
   "cell_type": "code",
   "execution_count": 11,
   "id": "e39ac4a3-cc5d-49ba-be38-5fe741f09c73",
   "metadata": {},
   "outputs": [
    {
     "name": "stdout",
     "output_type": "stream",
     "text": [
      "[[-0.57741006 -0.57738353 -0.57725721]\n",
      " [-0.39074011 -0.42538046  0.81631711]]\n"
     ]
    }
   ],
   "source": [
    "#  Usando PCA para diminuir a dimensionalidade\n",
    "\n",
    "pca = decomposition.PCA(n_components=2)\n",
    "XTrain = pca.fit_transform(XTrain)\n",
    "XTest = pca.transform(XTest)\n",
    "print(pca.components_)"
   ]
  },
  {
   "cell_type": "code",
   "execution_count": 12,
   "id": "fd5cd3e0-eec9-4c25-a9da-749d053ad00e",
   "metadata": {},
   "outputs": [
    {
     "name": "stdout",
     "output_type": "stream",
     "text": [
      "Tempo de treino: 0.02155603699999986\n"
     ]
    }
   ],
   "source": [
    "model = LogisticRegression(solver='lbfgs', max_iter=400)\n",
    "start_time = time.perf_counter()\n",
    "model.fit(XTrain, yTrain)\n",
    "end_time = time.perf_counter()\n",
    "\n",
    "print(\"Tempo de treino:\", end_time - start_time)"
   ]
  },
  {
   "cell_type": "code",
   "execution_count": 13,
   "id": "d02ba3f2-fb4e-48cc-98d4-63a26e6f8bf7",
   "metadata": {},
   "outputs": [
    {
     "name": "stdout",
     "output_type": "stream",
     "text": [
      "[[2.08212519 2.07681368 2.06400012]\n",
      " [1.96985141 1.96575151 1.95185561]\n",
      " [1.96985141 1.96575151 1.95193972]\n",
      " ...\n",
      " [0.84711359 0.84391136 0.83880051]\n",
      " [0.84711359 0.84391136 0.84519336]\n",
      " [0.84711359 0.84391136 0.85079901]] [1 1 1 ... 2 2 2]\n"
     ]
    }
   ],
   "source": [
    "# Verificando o score do modelo de treinamento\n",
    "model.score(XTest, yTest)\n",
    "print(X,y)"
   ]
  },
  {
   "cell_type": "code",
   "execution_count": 14,
   "id": "67e5cb27-4633-420a-a743-e2e64f4e281d",
   "metadata": {},
   "outputs": [
    {
     "name": "stdout",
     "output_type": "stream",
     "text": [
      "Variância: [9.99947038e-01 5.29619397e-05]\n"
     ]
    }
   ],
   "source": [
    "# Realizando e analisando a redução da dimensionalidade usando PCA\n",
    "pca_viewer = PCA(n_components=2)\n",
    "principal_components = pca_viewer.fit_transform(XTrain)\n",
    "\n",
    "\n",
    "print(\"Variância:\", pca_viewer.explained_variance_ratio_)\n"
   ]
  },
  {
   "cell_type": "code",
   "execution_count": 15,
   "id": "693f9d64-6a85-428e-a990-18a12379f120",
   "metadata": {},
   "outputs": [
    {
     "data": {
      "text/plain": [
       "array([-0.57741006, -0.57738353, -0.57725721])"
      ]
     },
     "execution_count": 15,
     "metadata": {},
     "output_type": "execute_result"
    }
   ],
   "source": [
    "pca.components_.T [:,0]"
   ]
  },
  {
   "cell_type": "code",
   "execution_count": 16,
   "id": "712b9f52-c550-4c24-bb0e-44681ad12055",
   "metadata": {},
   "outputs": [
    {
     "data": {
      "text/html": [
       "<div>\n",
       "<style scoped>\n",
       "    .dataframe tbody tr th:only-of-type {\n",
       "        vertical-align: middle;\n",
       "    }\n",
       "\n",
       "    .dataframe tbody tr th {\n",
       "        vertical-align: top;\n",
       "    }\n",
       "\n",
       "    .dataframe thead th {\n",
       "        text-align: right;\n",
       "    }\n",
       "</style>\n",
       "<table border=\"1\" class=\"dataframe\">\n",
       "  <thead>\n",
       "    <tr style=\"text-align: right;\">\n",
       "      <th></th>\n",
       "      <th>principal component 1</th>\n",
       "      <th>principal component 2</th>\n",
       "    </tr>\n",
       "  </thead>\n",
       "  <tbody>\n",
       "    <tr>\n",
       "      <th>0</th>\n",
       "      <td>-0.089944</td>\n",
       "      <td>0.021681</td>\n",
       "    </tr>\n",
       "    <tr>\n",
       "      <th>1</th>\n",
       "      <td>-1.628869</td>\n",
       "      <td>0.001798</td>\n",
       "    </tr>\n",
       "    <tr>\n",
       "      <th>2</th>\n",
       "      <td>1.486722</td>\n",
       "      <td>-0.010413</td>\n",
       "    </tr>\n",
       "    <tr>\n",
       "      <th>3</th>\n",
       "      <td>0.705935</td>\n",
       "      <td>-0.002948</td>\n",
       "    </tr>\n",
       "    <tr>\n",
       "      <th>4</th>\n",
       "      <td>2.650064</td>\n",
       "      <td>-0.002170</td>\n",
       "    </tr>\n",
       "    <tr>\n",
       "      <th>...</th>\n",
       "      <td>...</td>\n",
       "      <td>...</td>\n",
       "    </tr>\n",
       "    <tr>\n",
       "      <th>1202</th>\n",
       "      <td>-1.430655</td>\n",
       "      <td>-0.013391</td>\n",
       "    </tr>\n",
       "    <tr>\n",
       "      <th>1203</th>\n",
       "      <td>-1.434134</td>\n",
       "      <td>-0.011258</td>\n",
       "    </tr>\n",
       "    <tr>\n",
       "      <th>1204</th>\n",
       "      <td>-0.077518</td>\n",
       "      <td>-0.000072</td>\n",
       "    </tr>\n",
       "    <tr>\n",
       "      <th>1205</th>\n",
       "      <td>-1.234965</td>\n",
       "      <td>-0.012473</td>\n",
       "    </tr>\n",
       "    <tr>\n",
       "      <th>1206</th>\n",
       "      <td>-1.234747</td>\n",
       "      <td>-0.009994</td>\n",
       "    </tr>\n",
       "  </tbody>\n",
       "</table>\n",
       "<p>1207 rows × 2 columns</p>\n",
       "</div>"
      ],
      "text/plain": [
       "      principal component 1  principal component 2\n",
       "0                 -0.089944               0.021681\n",
       "1                 -1.628869               0.001798\n",
       "2                  1.486722              -0.010413\n",
       "3                  0.705935              -0.002948\n",
       "4                  2.650064              -0.002170\n",
       "...                     ...                    ...\n",
       "1202              -1.430655              -0.013391\n",
       "1203              -1.434134              -0.011258\n",
       "1204              -0.077518              -0.000072\n",
       "1205              -1.234965              -0.012473\n",
       "1206              -1.234747              -0.009994\n",
       "\n",
       "[1207 rows x 2 columns]"
      ]
     },
     "execution_count": 16,
     "metadata": {},
     "output_type": "execute_result"
    }
   ],
   "source": [
    "principal_components_df = pd.DataFrame(data = principal_components, \n",
    "                                       columns = ['principal component 1', 'principal component 2'])\n",
    "\n",
    "principal_components_df"
   ]
  },
  {
   "cell_type": "code",
   "execution_count": 17,
   "id": "4c7c5f92-e53d-4e30-a904-28a3ad76778f",
   "metadata": {},
   "outputs": [],
   "source": [
    "# Iniciando a redução da dimensionalidade usando o Kernell PCA \n",
    "# Importando as bibliotecas necessárias:\n",
    "\n",
    "import numpy as np\n",
    "import matplotlib.pyplot as plt\n",
    "from sklearn.decomposition import PCA, KernelPCA\n",
    "from sklearn.datasets import make_circles\n",
    "np.random.seed(0)"
   ]
  },
  {
   "cell_type": "code",
   "execution_count": 18,
   "id": "6e5acfce-3dbc-45fe-9bdf-91bb5055933f",
   "metadata": {},
   "outputs": [],
   "source": [
    "#  Aplicando o KPCA e plotando os gráficos\n",
    "\n",
    "X, y = make_circles(n_samples=400, factor=.3, noise=.05)\n",
    "kpca = KernelPCA(kernel=\"rbf\", fit_inverse_transform=True, gamma=10)\n",
    "X_kpca = kpca.fit_transform(X)\n",
    "X_back = kpca.inverse_transform(X_kpca)\n",
    "pca = PCA()\n",
    "X_pca = pca.fit_transform(X)"
   ]
  },
  {
   "cell_type": "code",
   "execution_count": 22,
   "id": "32f0548c-15b7-4a49-a072-4c36f526edfe",
   "metadata": {},
   "outputs": [
    {
     "data": {
      "text/plain": [
       "Text(0, 0.5, '$x_2$')"
      ]
     },
     "execution_count": 22,
     "metadata": {},
     "output_type": "execute_result"
    },
    {
     "data": {
      "image/png": "[encoded data removed]",
      "text/plain": [
       "<Figure size 432x288 with 4 Axes>"
      ]
     },
     "metadata": {
      "needs_background": "light"
     },
     "output_type": "display_data"
    }
   ],
   "source": [
    "# Plotando o modelo\n",
    "plt.figure()\n",
    "plt.subplot(3, 3, 1, aspect=\"equal\")\n",
    "plt.title(\"Espaço original\")\n",
    "reds = y == 0\n",
    "blues = y == 1\n",
    "plt.scatter(X[reds, 0], X[reds, 1], c=\"red\", s=20, edgecolor='k')\n",
    "plt.scatter(X[blues, 0], X[blues, 1], c=\"blue\", s=20, edgecolor='k')\n",
    "plt.xlabel(\"$x_1$\")\n",
    "plt.ylabel(\"$x_2$\")\n",
    "X1, X2 = np.meshgrid(np.linspace(-1.5, 1.5, 50),\n",
    "np.linspace(-1.5, 1.5, 50))\n",
    "X_grid = np.array([np.ravel(X1), np.ravel(X2)]).T\n",
    "Z_grid = kpca.transform(X_grid)[:, 0].reshape(X1.shape)\n",
    "\n",
    "# Projeção do primeiro componente principal \n",
    "\n",
    "\n",
    "plt.contour(X1, X2, Z_grid, colors=\"grey\", linewidths=1, origin=\"lower\")\n",
    "plt.subplot(3, 3, 3, aspect=\"equal\")\n",
    "plt.scatter(X_pca[reds, 0], X_pca[reds, 1], c=\"red\", s=20, edgecolor='k')\n",
    "plt.scatter(X_pca[blues, 0], X_pca[blues, 1], c=\"blue\", s=20, edgecolor='k')\n",
    "plt.title(\"Projeção do KPCA\")\n",
    "plt.xlabel(\"1º componentente principal\")\n",
    "plt.ylabel(\"2º componente\")\n",
    "\n",
    "\n",
    "\n",
    "plt.subplot(3, 3, 7, aspect=\"equal\")\n",
    "plt.scatter(X_kpca[reds, 0], X_kpca[reds, 1], c=\"red\", s=20, edgecolor='k')\n",
    "plt.scatter(X_kpca[blues, 0], X_kpca[blues, 1], c=\"blue\",s=20, edgecolor='k')\n",
    "plt.title(\"Projeção do KPCA\")\n",
    "plt.xlabel(\"1º componentente principal\")\n",
    "plt.ylabel(\"2º componente\")\n",
    "\n",
    "\n",
    "\n",
    "plt.subplot(3, 3, 9, aspect=\"equal\")\n",
    "plt.scatter(X_back[reds, 0], X_back[reds, 1], c=\"red\", s=20, edgecolor='k')\n",
    "plt.scatter(X_back[blues, 0], X_back[blues, 1], c=\"blue\", s=20, edgecolor='k')\n",
    "plt.title(\"Espaço original após a transformação inversa\")\n",
    "plt.xlabel(\"$x_1$\")\n",
    "plt.ylabel(\"$x_2$\")\n",
    "\n",
    "\n"
   ]
  },
  {
   "cell_type": "code",
   "execution_count": null,
   "id": "8adfc080-9685-4caa-a70a-81203784151d",
   "metadata": {},
   "outputs": [],
   "source": []
  }
 ],
 "metadata": {
  "kernelspec": {
   "display_name": "Python 3 (ipykernel)",
   "language": "python",
   "name": "python3"
  },
  "language_info": {
   "codemirror_mode": {
    "name": "ipython",
    "version": 3
   },
   "file_extension": ".py",
   "mimetype": "text/x-python",
   "name": "python",
   "nbconvert_exporter": "python",
   "pygments_lexer": "ipython3",
   "version": "3.9.7"
  }
 },
 "nbformat": 4,
 "nbformat_minor": 5
}
