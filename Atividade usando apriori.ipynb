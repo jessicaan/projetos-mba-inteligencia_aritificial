{
 "cells": [
  {
   "cell_type": "code",
   "execution_count": 2,
   "id": "c81e7b54-51dd-4d53-a66f-bf928884c54e",
   "metadata": {},
   "outputs": [],
   "source": [
    "#  Importando as bibliotecas necessárias\n",
    "import pandas as pd\n",
    "import numpy as np\n",
    "import seaborn as sns\n",
    "from apyori import apriori\n",
    "from sklearn import preprocessing"
   ]
  },
  {
   "cell_type": "code",
   "execution_count": 3,
   "id": "a2956d76-ebf2-423f-aaf0-5496dbf583e4",
   "metadata": {},
   "outputs": [
    {
     "data": {
      "text/plain": [
       "(150, 5)"
      ]
     },
     "execution_count": 3,
     "metadata": {},
     "output_type": "execute_result"
    }
   ],
   "source": [
    "# Importando o dataset\n",
    "df = pd.read_csv('iris_data.csv', header=None)\n",
    "df.shape"
   ]
  },
  {
   "cell_type": "code",
   "execution_count": 4,
   "id": "577df68c-e117-486a-8865-d021de03c1a2",
   "metadata": {},
   "outputs": [
    {
     "data": {
      "text/html": [
       "<div>\n",
       "<style scoped>\n",
       "    .dataframe tbody tr th:only-of-type {\n",
       "        vertical-align: middle;\n",
       "    }\n",
       "\n",
       "    .dataframe tbody tr th {\n",
       "        vertical-align: top;\n",
       "    }\n",
       "\n",
       "    .dataframe thead th {\n",
       "        text-align: right;\n",
       "    }\n",
       "</style>\n",
       "<table border=\"1\" class=\"dataframe\">\n",
       "  <thead>\n",
       "    <tr style=\"text-align: right;\">\n",
       "      <th></th>\n",
       "      <th>0</th>\n",
       "      <th>1</th>\n",
       "      <th>2</th>\n",
       "      <th>3</th>\n",
       "      <th>4</th>\n",
       "    </tr>\n",
       "  </thead>\n",
       "  <tbody>\n",
       "    <tr>\n",
       "      <th>0</th>\n",
       "      <td>5.1</td>\n",
       "      <td>3.5</td>\n",
       "      <td>1.4</td>\n",
       "      <td>0.2</td>\n",
       "      <td>Iris-setosa</td>\n",
       "    </tr>\n",
       "    <tr>\n",
       "      <th>1</th>\n",
       "      <td>4.9</td>\n",
       "      <td>3.0</td>\n",
       "      <td>1.4</td>\n",
       "      <td>0.2</td>\n",
       "      <td>Iris-setosa</td>\n",
       "    </tr>\n",
       "    <tr>\n",
       "      <th>2</th>\n",
       "      <td>4.7</td>\n",
       "      <td>3.2</td>\n",
       "      <td>1.3</td>\n",
       "      <td>0.2</td>\n",
       "      <td>Iris-setosa</td>\n",
       "    </tr>\n",
       "    <tr>\n",
       "      <th>3</th>\n",
       "      <td>4.6</td>\n",
       "      <td>3.1</td>\n",
       "      <td>1.5</td>\n",
       "      <td>0.2</td>\n",
       "      <td>Iris-setosa</td>\n",
       "    </tr>\n",
       "    <tr>\n",
       "      <th>4</th>\n",
       "      <td>5.0</td>\n",
       "      <td>3.6</td>\n",
       "      <td>1.4</td>\n",
       "      <td>0.2</td>\n",
       "      <td>Iris-setosa</td>\n",
       "    </tr>\n",
       "  </tbody>\n",
       "</table>\n",
       "</div>"
      ],
      "text/plain": [
       "     0    1    2    3            4\n",
       "0  5.1  3.5  1.4  0.2  Iris-setosa\n",
       "1  4.9  3.0  1.4  0.2  Iris-setosa\n",
       "2  4.7  3.2  1.3  0.2  Iris-setosa\n",
       "3  4.6  3.1  1.5  0.2  Iris-setosa\n",
       "4  5.0  3.6  1.4  0.2  Iris-setosa"
      ]
     },
     "execution_count": 4,
     "metadata": {},
     "output_type": "execute_result"
    }
   ],
   "source": [
    "# Visualizando o dataset\n",
    "df.head()"
   ]
  },
  {
   "cell_type": "code",
   "execution_count": 5,
   "id": "d8c69c73-5e31-4f98-992c-d6057e65bf4d",
   "metadata": {},
   "outputs": [],
   "source": [
    "# Transformando as transações em uma lista para facilitar a indexação\n",
    "transactions = []\n",
    "for i in range(0,50):\n",
    "    transactions.append([str(df.values[i,j]) for j in range (0,5)])\n"
   ]
  },
  {
   "cell_type": "code",
   "execution_count": 6,
   "id": "6efd6a4e-5e06-4dd7-b871-e3d8d5ec1d63",
   "metadata": {},
   "outputs": [
    {
     "name": "stdout",
     "output_type": "stream",
     "text": [
      "[['5.1', '3.5', '1.4', '0.2', 'Iris-setosa'], ['4.9', '3.0', '1.4', '0.2', 'Iris-setosa'], ['4.7', '3.2', '1.3', '0.2', 'Iris-setosa'], ['4.6', '3.1', '1.5', '0.2', 'Iris-setosa'], ['5.0', '3.6', '1.4', '0.2', 'Iris-setosa'], ['5.4', '3.9', '1.7', '0.4', 'Iris-setosa'], ['4.6', '3.4', '1.4', '0.3', 'Iris-setosa'], ['5.0', '3.4', '1.5', '0.2', 'Iris-setosa'], ['4.4', '2.9', '1.4', '0.2', 'Iris-setosa'], ['4.9', '3.1', '1.5', '0.1', 'Iris-setosa'], ['5.4', '3.7', '1.5', '0.2', 'Iris-setosa'], ['4.8', '3.4', '1.6', '0.2', 'Iris-setosa'], ['4.8', '3.0', '1.4', '0.1', 'Iris-setosa'], ['4.3', '3.0', '1.1', '0.1', 'Iris-setosa'], ['5.8', '4.0', '1.2', '0.2', 'Iris-setosa'], ['5.7', '4.4', '1.5', '0.4', 'Iris-setosa'], ['5.4', '3.9', '1.3', '0.4', 'Iris-setosa'], ['5.1', '3.5', '1.4', '0.3', 'Iris-setosa'], ['5.7', '3.8', '1.7', '0.3', 'Iris-setosa'], ['5.1', '3.8', '1.5', '0.3', 'Iris-setosa'], ['5.4', '3.4', '1.7', '0.2', 'Iris-setosa'], ['5.1', '3.7', '1.5', '0.4', 'Iris-setosa'], ['4.6', '3.6', '1.0', '0.2', 'Iris-setosa'], ['5.1', '3.3', '1.7', '0.5', 'Iris-setosa'], ['4.8', '3.4', '1.9', '0.2', 'Iris-setosa'], ['5.0', '3.0', '1.6', '0.2', 'Iris-setosa'], ['5.0', '3.4', '1.6', '0.4', 'Iris-setosa'], ['5.2', '3.5', '1.5', '0.2', 'Iris-setosa'], ['5.2', '3.4', '1.4', '0.2', 'Iris-setosa'], ['4.7', '3.2', '1.6', '0.2', 'Iris-setosa'], ['4.8', '3.1', '1.6', '0.2', 'Iris-setosa'], ['5.4', '3.4', '1.5', '0.4', 'Iris-setosa'], ['5.2', '4.1', '1.5', '0.1', 'Iris-setosa'], ['5.5', '4.2', '1.4', '0.2', 'Iris-setosa'], ['4.9', '3.1', '1.5', '0.1', 'Iris-setosa'], ['5.0', '3.2', '1.2', '0.2', 'Iris-setosa'], ['5.5', '3.5', '1.3', '0.2', 'Iris-setosa'], ['4.9', '3.1', '1.5', '0.1', 'Iris-setosa'], ['4.4', '3.0', '1.3', '0.2', 'Iris-setosa'], ['5.1', '3.4', '1.5', '0.2', 'Iris-setosa'], ['5.0', '3.5', '1.3', '0.3', 'Iris-setosa'], ['4.5', '2.3', '1.3', '0.3', 'Iris-setosa'], ['4.4', '3.2', '1.3', '0.2', 'Iris-setosa'], ['5.0', '3.5', '1.6', '0.6', 'Iris-setosa'], ['5.1', '3.8', '1.9', '0.4', 'Iris-setosa'], ['4.8', '3.0', '1.4', '0.3', 'Iris-setosa'], ['5.1', '3.8', '1.6', '0.2', 'Iris-setosa'], ['4.6', '3.2', '1.4', '0.2', 'Iris-setosa'], ['5.3', '3.7', '1.5', '0.2', 'Iris-setosa'], ['5.0', '3.3', '1.4', '0.2', 'Iris-setosa']]\n"
     ]
    }
   ],
   "source": [
    "print (transactions)\n"
   ]
  },
  {
   "cell_type": "code",
   "execution_count": 7,
   "id": "a0685c74-8f0e-4c79-875b-f7af6e250f0d",
   "metadata": {},
   "outputs": [
    {
     "name": "stdout",
     "output_type": "stream",
     "text": [
      "[] -> ['Iris-setosa']\n",
      "Suporte: 1.0\n",
      "Confiança: 1.0\n",
      "Lift: 1.0\n",
      "........................................\n",
      "['0.2'] -> ['Iris-setosa']\n",
      "Suporte: 0.56\n",
      "Confiança: 1.0\n",
      "Lift: 1.0\n",
      "........................................\n"
     ]
    }
   ],
   "source": [
    "# Aplicar o algoritmo Apriori sem realizar a transformação dos dados\n",
    "Rules1 = list(apriori(transactions, min_length=4, min_support=0.5, min_confidence=0.9))\n",
    "\n",
    "for i in range(len(Rules1)):\n",
    "    LHS=list(Rules1[i][2][0][0])\n",
    "    RHS=list(Rules1[i][2][0][1])\n",
    "    support=Rules1[i][1]\n",
    "    confidence=Rules1[i][2][0][2]\n",
    "    lift=Rules1[i][2][0][3]\n",
    "    \n",
    "    print(LHS,\"->\",RHS)\n",
    "    print(\"Suporte:\",support)\n",
    "    print(\"Confiança:\",confidence)\n",
    "    print(\"Lift:\", lift)\n",
    "    print(10*\"....\")"
   ]
  },
  {
   "cell_type": "code",
   "execution_count": 8,
   "id": "52ba86bc-07ba-4b0e-9d95-6809c40c1be8",
   "metadata": {},
   "outputs": [],
   "source": [
    "#  Sem o tratamento dos dados foram encontradas apenas duas associações usando apriori,\n",
    "#  ainda assim, de forma irregular para utilização da informação"
   ]
  },
  {
   "cell_type": "code",
   "execution_count": 10,
   "id": "16c47299-fb7f-493c-bddc-b3dd34808ea1",
   "metadata": {},
   "outputs": [
    {
     "name": "stdout",
     "output_type": "stream",
     "text": [
      "<class 'pandas.core.frame.DataFrame'>\n",
      "RangeIndex: 150 entries, 0 to 149\n",
      "Data columns (total 5 columns):\n",
      " #   Column  Non-Null Count  Dtype  \n",
      "---  ------  --------------  -----  \n",
      " 0   0       150 non-null    float64\n",
      " 1   1       150 non-null    float64\n",
      " 2   2       150 non-null    float64\n",
      " 3   3       150 non-null    float64\n",
      " 4   4       150 non-null    object \n",
      "dtypes: float64(4), object(1)\n",
      "memory usage: 6.0+ KB\n"
     ]
    }
   ],
   "source": [
    "# Verificando informações dos dados\n",
    "df.info()"
   ]
  },
  {
   "cell_type": "code",
   "execution_count": 11,
   "id": "d9c3d1b3-24b1-4ef1-8106-5c250a0e7632",
   "metadata": {},
   "outputs": [
    {
     "data": {
      "text/plain": [
       "0    0\n",
       "1    0\n",
       "2    0\n",
       "3    0\n",
       "4    0\n",
       "dtype: int64"
      ]
     },
     "execution_count": 11,
     "metadata": {},
     "output_type": "execute_result"
    }
   ],
   "source": [
    "# Verificando se há dados faltantes somando a quantidade de dados nulos em cada coluna\n",
    "\n",
    "df.isnull().sum()"
   ]
  },
  {
   "cell_type": "code",
   "execution_count": 12,
   "id": "a88fa901-56af-462c-9bc1-3475f094c88e",
   "metadata": {},
   "outputs": [
    {
     "data": {
      "text/plain": [
       "(149, 5)"
      ]
     },
     "execution_count": 12,
     "metadata": {},
     "output_type": "execute_result"
    }
   ],
   "source": [
    "# Importando macro com dados tratados --- obs.:\n",
    "# A principio o tratamento dos dados iria ser realizado no próprio código, porém por\n",
    "# falta de conhecimento/habilidade e tempo hábil... pelo momento optei por seguir o\n",
    "# Tratamento dos dados em EXCEL seguindo padrão demonstrado em LIVE do dia 20/08/2022.\n",
    "\n",
    "df2 = pd.read_csv('iris_data_tratado.csv')\n",
    "df2.head()\n",
    "df2.shape"
   ]
  },
  {
   "cell_type": "code",
   "execution_count": 13,
   "id": "b7f8e0cf-84a7-41c3-9dd5-89e6c070c1a6",
   "metadata": {},
   "outputs": [],
   "source": [
    "transactions2 = []\n",
    "\n",
    "# Não entendi o porque, mas sempre que uso o range do arquivo inteiro \n",
    "# ((range(0,149) não recebo resultados no apriori\n",
    "# somente quando coloco range(0,50) :(\n",
    "\n",
    "for i in range(0,50):\n",
    "    transactions2.append([str(df2.values[i,j]) for j in range (0,5)])"
   ]
  },
  {
   "cell_type": "code",
   "execution_count": 14,
   "id": "0242a42f-c79f-40a3-a59a-e9a05357c907",
   "metadata": {},
   "outputs": [
    {
     "name": "stdout",
     "output_type": "stream",
     "text": [
      "[['Iris:setosa', 'Sepal:43:55', 'SepalW:28:36', 'Petal:1:3', 'PetalW:01:09'], ['Iris:setosa', 'Sepal:43:55', 'SepalW:28:36', 'Petal:1:3', 'PetalW:01:09'], ['Iris:setosa', 'Sepal:43:55', 'SepalW:28:36', 'Petal:1:3', 'PetalW:01:09'], ['Iris:setosa', 'Sepal:43:55', 'SepalW:36:44', 'Petal:1:3', 'PetalW:01:09'], ['Iris:setosa', 'Sepal:43:55', 'SepalW:36:44', 'Petal:1:3', 'PetalW:01:09'], ['Iris:setosa', 'Sepal:43:55', 'SepalW:28:36', 'Petal:1:3', 'PetalW:01:09'], ['Iris:setosa', 'Sepal:43:55', 'SepalW:28:36', 'Petal:1:3', 'PetalW:01:09'], ['Iris:setosa', 'Sepal:43:55', 'SepalW:28:36', 'Petal:1:3', 'PetalW:01:09'], ['Iris:setosa', 'Sepal:43:55', 'SepalW:28:36', 'Petal:1:3', 'PetalW:01:09'], ['Iris:setosa', 'Sepal:43:55', 'SepalW:36:44', 'Petal:1:3', 'PetalW:01:09'], ['Iris:setosa', 'Sepal:43:55', 'SepalW:28:36', 'Petal:1:3', 'PetalW:01:09'], ['Iris:setosa', 'Sepal:43:55', 'SepalW:28:36', 'Petal:1:3', 'PetalW:01:09'], ['Iris:setosa', 'Sepal:43:55', 'SepalW:28:36', 'Petal:1:3', 'PetalW:01:09'], ['Iris:setosa', 'Sepal:55:67', 'SepalW:36:44', 'Petal:1:3', 'PetalW:01:09'], ['Iris:setosa', 'Sepal:55:67', 'SepalW:36:44', 'Petal:1:3', 'PetalW:01:09'], ['Iris:setosa', 'Sepal:43:55', 'SepalW:36:44', 'Petal:1:3', 'PetalW:01:09'], ['Iris:setosa', 'Sepal:43:55', 'SepalW:28:36', 'Petal:1:3', 'PetalW:01:09'], ['Iris:setosa', 'Sepal:55:67', 'SepalW:36:44', 'Petal:1:3', 'PetalW:01:09'], ['Iris:setosa', 'Sepal:43:55', 'SepalW:36:44', 'Petal:1:3', 'PetalW:01:09'], ['Iris:setosa', 'Sepal:43:55', 'SepalW:28:36', 'Petal:1:3', 'PetalW:01:09'], ['Iris:setosa', 'Sepal:43:55', 'SepalW:36:44', 'Petal:1:3', 'PetalW:01:09'], ['Iris:setosa', 'Sepal:43:55', 'SepalW:36:44', 'Petal:1:3', 'PetalW:01:09'], ['Iris:setosa', 'Sepal:43:55', 'SepalW:28:36', 'Petal:1:3', 'PetalW:01:09'], ['Iris:setosa', 'Sepal:43:55', 'SepalW:28:36', 'Petal:1:3', 'PetalW:01:09'], ['Iris:setosa', 'Sepal:43:55', 'SepalW:28:36', 'Petal:1:3', 'PetalW:01:09'], ['Iris:setosa', 'Sepal:43:55', 'SepalW:28:36', 'Petal:1:3', 'PetalW:01:09'], ['Iris:setosa', 'Sepal:43:55', 'SepalW:28:36', 'Petal:1:3', 'PetalW:01:09'], ['Iris:setosa', 'Sepal:43:55', 'SepalW:28:36', 'Petal:1:3', 'PetalW:01:09'], ['Iris:setosa', 'Sepal:43:55', 'SepalW:28:36', 'Petal:1:3', 'PetalW:01:09'], ['Iris:setosa', 'Sepal:43:55', 'SepalW:28:36', 'Petal:1:3', 'PetalW:01:09'], ['Iris:setosa', 'Sepal:43:55', 'SepalW:28:36', 'Petal:1:3', 'PetalW:01:09'], ['Iris:setosa', 'Sepal:43:55', 'SepalW:36:44', 'Petal:1:3', 'PetalW:01:09'], ['Iris:setosa', 'Sepal:55:67', 'SepalW:36:44', 'Petal:1:3', 'PetalW:01:09'], ['Iris:setosa', 'Sepal:43:55', 'SepalW:28:36', 'Petal:1:3', 'PetalW:01:09'], ['Iris:setosa', 'Sepal:43:55', 'SepalW:28:36', 'Petal:1:3', 'PetalW:01:09'], ['Iris:setosa', 'Sepal:55:67', 'SepalW:28:36', 'Petal:1:3', 'PetalW:01:09'], ['Iris:setosa', 'Sepal:43:55', 'SepalW:28:36', 'Petal:1:3', 'PetalW:01:09'], ['Iris:setosa', 'Sepal:43:55', 'SepalW:28:36', 'Petal:1:3', 'PetalW:01:09'], ['Iris:setosa', 'Sepal:43:55', 'SepalW:28:36', 'Petal:1:3', 'PetalW:01:09'], ['Iris:setosa', 'Sepal:43:55', 'SepalW:28:36', 'Petal:1:3', 'PetalW:01:09'], ['Iris:setosa', 'Sepal:43:55', 'SepalW:20:28', 'Petal:1:3', 'PetalW:01:09'], ['Iris:setosa', 'Sepal:43:55', 'SepalW:28:36', 'Petal:1:3', 'PetalW:01:09'], ['Iris:setosa', 'Sepal:43:55', 'SepalW:28:36', 'Petal:1:3', 'PetalW:01:09'], ['Iris:setosa', 'Sepal:43:55', 'SepalW:36:44', 'Petal:1:3', 'PetalW:01:09'], ['Iris:setosa', 'Sepal:43:55', 'SepalW:28:36', 'Petal:1:3', 'PetalW:01:09'], ['Iris:setosa', 'Sepal:43:55', 'SepalW:36:44', 'Petal:1:3', 'PetalW:01:09'], ['Iris:setosa', 'Sepal:43:55', 'SepalW:28:36', 'Petal:1:3', 'PetalW:01:09'], ['Iris:setosa', 'Sepal:43:55', 'SepalW:36:44', 'Petal:1:3', 'PetalW:01:09'], ['Iris:setosa', 'Sepal:43:55', 'SepalW:28:36', 'Petal:1:3', 'PetalW:01:09'], ['Iris:versicolor', 'Sepal:67:79', 'SepalW:28:36', 'Petal:3:5', 'PetalW:09:17']]\n"
     ]
    }
   ],
   "source": [
    "print(transactions2)"
   ]
  },
  {
   "cell_type": "code",
   "execution_count": 15,
   "id": "3333b799-fe44-4ec8-acf2-9da5e3472805",
   "metadata": {},
   "outputs": [
    {
     "name": "stdout",
     "output_type": "stream",
     "text": [
      "['Iris:setosa'] -> ['Petal:1:3']\n",
      "Suporte: 0.98\n",
      "Confiança: 1.0\n",
      "Lift: 1.0204081632653061\n",
      "----------------------------------------\n",
      "['Iris:setosa'] -> ['PetalW:01:09']\n",
      "Suporte: 0.98\n",
      "Confiança: 1.0\n",
      "Lift: 1.0204081632653061\n",
      "----------------------------------------\n",
      "['Sepal:43:55'] -> ['Iris:setosa']\n",
      "Suporte: 0.88\n",
      "Confiança: 1.0\n",
      "Lift: 1.0204081632653061\n",
      "----------------------------------------\n",
      "['Petal:1:3'] -> ['PetalW:01:09']\n",
      "Suporte: 0.98\n",
      "Confiança: 1.0\n",
      "Lift: 1.0204081632653061\n",
      "----------------------------------------\n",
      "['Sepal:43:55'] -> ['Petal:1:3']\n",
      "Suporte: 0.88\n",
      "Confiança: 1.0\n",
      "Lift: 1.0204081632653061\n",
      "----------------------------------------\n",
      "['Sepal:43:55'] -> ['PetalW:01:09']\n",
      "Suporte: 0.88\n",
      "Confiança: 1.0\n",
      "Lift: 1.0204081632653061\n",
      "----------------------------------------\n",
      "['Iris:setosa'] -> ['Petal:1:3', 'PetalW:01:09']\n",
      "Suporte: 0.98\n",
      "Confiança: 1.0\n",
      "Lift: 1.0204081632653061\n",
      "----------------------------------------\n",
      "['Sepal:43:55'] -> ['Petal:1:3', 'Iris:setosa']\n",
      "Suporte: 0.88\n",
      "Confiança: 1.0\n",
      "Lift: 1.0204081632653061\n",
      "----------------------------------------\n",
      "['Sepal:43:55'] -> ['Iris:setosa', 'PetalW:01:09']\n",
      "Suporte: 0.88\n",
      "Confiança: 1.0\n",
      "Lift: 1.0204081632653061\n",
      "----------------------------------------\n",
      "['Sepal:43:55'] -> ['Petal:1:3', 'PetalW:01:09']\n",
      "Suporte: 0.88\n",
      "Confiança: 1.0\n",
      "Lift: 1.0204081632653061\n",
      "----------------------------------------\n",
      "['Sepal:43:55'] -> ['Petal:1:3', 'Iris:setosa', 'PetalW:01:09']\n",
      "Suporte: 0.88\n",
      "Confiança: 1.0\n",
      "Lift: 1.0204081632653061\n",
      "----------------------------------------\n"
     ]
    }
   ],
   "source": [
    "Rules = list(apriori(transactions2, min_length=5, min_support=0.7, min_confidence=1.0))\n",
    "\n",
    "# extraindo as regras dos objetos \n",
    "for i in range(len(Rules)):\n",
    "    LHS=list(Rules[i][2][0][0])\n",
    "    RHS=list(Rules[i][2][0][1])\n",
    "    support=Rules[i][1]\n",
    "    confidence=Rules[i][2][0][2]\n",
    "    lift=Rules[i][2][0][3]\n",
    "    \n",
    "    print(LHS,\"->\",RHS)\n",
    "    print(\"Suporte:\",support)\n",
    "    print(\"Confiança:\",confidence)\n",
    "    print(\"Lift:\", lift)\n",
    "    print(10*\"----\")"
   ]
  },
  {
   "cell_type": "code",
   "execution_count": 16,
   "id": "3faa707a-2641-4e98-8c64-2f152db5f13b",
   "metadata": {},
   "outputs": [
    {
     "name": "stdout",
     "output_type": "stream",
     "text": [
      "11\n"
     ]
    }
   ],
   "source": [
    "print(len(Rules))"
   ]
  },
  {
   "cell_type": "code",
   "execution_count": 3,
   "id": "3bebbd1b-3c43-4e09-80df-8323e1a85eda",
   "metadata": {},
   "outputs": [],
   "source": [
    "#  Após o tratamento dos dados foi possível encontrar \n",
    "#  um maior número de associações, além de conseguir entender sobre\n",
    "#  quais dados se tratam essas associações. \n",
    "#  Ao mexer na confiança ou suporte minimo \n",
    "#  é possível alterar a quantidade de resultados obtidos em ambos\n",
    "#  os testes, tanto os dados tratados quanto os não tratados. \n"
   ]
  },
  {
   "cell_type": "code",
   "execution_count": null,
   "id": "a0fdb76f-e92f-4a28-aee9-80bc3ff8e56d",
   "metadata": {},
   "outputs": [],
   "source": []
  }
 ],
 "metadata": {
  "kernelspec": {
   "display_name": "Python 3 (ipykernel)",
   "language": "python",
   "name": "python3"
  },
  "language_info": {
   "codemirror_mode": {
    "name": "ipython",
    "version": 3
   },
   "file_extension": ".py",
   "mimetype": "text/x-python",
   "name": "python",
   "nbconvert_exporter": "python",
   "pygments_lexer": "ipython3",
   "version": "3.9.7"
  }
 },
 "nbformat": 4,
 "nbformat_minor": 5
}
